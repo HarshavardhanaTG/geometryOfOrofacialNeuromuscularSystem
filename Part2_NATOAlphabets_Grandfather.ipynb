{
 "cells": [
  {
   "cell_type": "code",
   "execution_count": 1,
   "metadata": {},
   "outputs": [],
   "source": [
    "%load_ext autoreload"
   ]
  },
  {
   "cell_type": "code",
   "execution_count": null,
   "metadata": {},
   "outputs": [],
   "source": [
    "\"\"\"\n",
    "Grandfather passage = [\"You wish to know about my grandfather\", \"Well he is nearly ninety three years old\", \"yet he still thinks as swiftly as ever\", \"He dresses himself in an old black frock coat\", \n",
    "               \"usually several buttons missing\", \"A long beard clings to his chin\", \"giving those who observe him\", \"a pronounced feeling of the utmost respect\",\n",
    "               \"When he speaks his voice is\", \"just a bit cracked and quivers a bit\", \"Twice each day he plays skillfully\", \"and with zest upon a small organ\", \"Except in the winter when\",\n",
    "               \"the snow or ice prevents\", \"he slowly takes a short walk in\", \"the open air each day\", \"We have often urged him to walk\", \"more and smoke less\",\n",
    "               \"but he always answers\", \"Banana oil Grandfather likes\", \"to be modern in his language\"]\n",
    "\n",
    "Each word was read character-by-character. Cue to read the characters were given 1.5 seconds apart. There are pauses between words (no pauses between characters). \n",
    "DATA is an array of (number characters, 22 - number channels, 7500 - number time steps).\n",
    "\n",
    "Due to a glitch in the software a couple of characters are missing from some subjects. Labels are provided separately for each subject. \n",
    "\"\"\""
   ]
  },
  {
   "cell_type": "code",
   "execution_count": 2,
   "metadata": {},
   "outputs": [],
   "source": [
    "import numpy as np\n",
    "\n",
    "import torch\n",
    "import torch.nn as nn\n",
    "from torch.utils.data import Dataset, DataLoader\n",
    "import torch.optim as optim\n",
    "\n",
    "from spdLearning import spdNN\n",
    "from spdLearning import optimizers \n",
    "from spdLearning import trainTest\n",
    "from spdLearning import spdNet"
   ]
  },
  {
   "cell_type": "code",
   "execution_count": 3,
   "metadata": {},
   "outputs": [],
   "source": [
    "class BaseDataset(Dataset):\n",
    "    def __init__(self, data, labels):\n",
    "        self.data = data\n",
    "        self.labels = labels\n",
    "\n",
    "    def __getitem__(self, index):\n",
    "        return self.data[index].astype('float32'), self.labels[index]\n",
    "\n",
    "    def __len__(self):\n",
    "        return len(self.data)"
   ]
  },
  {
   "cell_type": "code",
   "execution_count": 4,
   "metadata": {},
   "outputs": [],
   "source": [
    "dev = \"cpu\" \n",
    "device = torch.device(dev)"
   ]
  },
  {
   "cell_type": "code",
   "execution_count": 5,
   "metadata": {},
   "outputs": [],
   "source": [
    "subjectNumber = 4\n",
    "subject = \"Subject\" + str(subjectNumber)"
   ]
  },
  {
   "cell_type": "code",
   "execution_count": 6,
   "metadata": {},
   "outputs": [],
   "source": [
    "DATA = np.load(\"Experiment2/\" + subject + \"/grandfatherPassage.npy\")\n",
    "   \n",
    "mean = np.mean(DATA, axis = -1)\n",
    "std = np.std(DATA, axis = -1)\n",
    "DATA = (DATA - mean[..., np.newaxis])/(std[..., np.newaxis] + 1e-5)\n",
    "Labels = np.load(\"Experiment2/\" + subject + \"/grandfatherPassageLabels.npy\")"
   ]
  },
  {
   "cell_type": "code",
   "execution_count": 7,
   "metadata": {},
   "outputs": [],
   "source": [
    "numberChannels = 22\n",
    "windowLength = 7500\n",
    "numberAlphabets = 26"
   ]
  },
  {
   "cell_type": "code",
   "execution_count": 8,
   "metadata": {},
   "outputs": [],
   "source": [
    "covarianceMatrices = np.zeros((len(Labels), numberChannels, numberChannels))\n",
    "\n",
    "for j in range(len(Labels)):\n",
    "    covarianceMatrices[j] = 1/windowLength * ((DATA[j] @ DATA[j].T))"
   ]
  },
  {
   "cell_type": "code",
   "execution_count": 9,
   "metadata": {},
   "outputs": [],
   "source": [
    "testFeatures = covarianceMatrices\n",
    "testLabels = Labels"
   ]
  },
  {
   "cell_type": "code",
   "execution_count": 10,
   "metadata": {},
   "outputs": [],
   "source": [
    "testDataset = BaseDataset(testFeatures, testLabels)\n",
    "testDataloader = DataLoader(testDataset, batch_size = 32, shuffle = False)"
   ]
  },
  {
   "cell_type": "code",
   "execution_count": 11,
   "metadata": {},
   "outputs": [
    {
     "name": "stdout",
     "output_type": "stream",
     "text": [
      "7926\n"
     ]
    }
   ],
   "source": [
    "model = spdNet.learnSPDMatrices(numberAlphabets).to(device)\n",
    "numParams = sum(p.numel() for p in model.parameters() if p.requires_grad)\n",
    "print(numParams)\n",
    "lossFunction = nn.CrossEntropyLoss()\n",
    "spdOptimizer = optimizers.MixOptimizer(model.parameters(), lr = 0.05)"
   ]
  },
  {
   "cell_type": "code",
   "execution_count": 12,
   "metadata": {},
   "outputs": [],
   "source": [
    "checkpoint = torch.load('Experiment2/' + subject + '/spdNet.pt')"
   ]
  },
  {
   "cell_type": "code",
   "execution_count": 13,
   "metadata": {},
   "outputs": [
    {
     "data": {
      "text/plain": [
       "<All keys matched successfully>"
      ]
     },
     "execution_count": 13,
     "metadata": {},
     "output_type": "execute_result"
    }
   ],
   "source": [
    "model.load_state_dict(checkpoint)"
   ]
  },
  {
   "cell_type": "code",
   "execution_count": 14,
   "metadata": {},
   "outputs": [],
   "source": [
    "def testOperationk(model, device, dataloader, Loss, k):\n",
    "    with torch.no_grad():\n",
    "        model.eval()\n",
    "        testLoss, accuracy, correct, total = 0, 0, 0, 0\n",
    "        PREDICT = []\n",
    "\n",
    "        for data, target in dataloader:\n",
    "            target = target.long()\n",
    "            data, target = data.to(device), target.to(device)\n",
    "            output = model(data)\n",
    "            loss = Loss(output, target)\n",
    "            \n",
    "            testLoss += loss.data.item()\n",
    "            _, topkPreds = torch.topk(output.data, k, dim = 1)\n",
    "            total += target.size(0)\n",
    "            correct += sum([target[i].item() in topkPreds[i].cpu().numpy() for i in range(target.size(0))])\n",
    "            PREDICT.append(topkPreds.cpu().numpy())\n",
    "    accuracy = 100. * correct/total\n",
    "    return testLoss/total, accuracy, PREDICT"
   ]
  },
  {
   "cell_type": "code",
   "execution_count": 15,
   "metadata": {},
   "outputs": [],
   "source": [
    "testLoss, testAccuracy1, prediction = testOperationk(model, device, testDataloader, lossFunction, 1)\n",
    "testLoss, testAccuracy2, prediction = testOperationk(model, device, testDataloader, lossFunction, 2)\n",
    "testLoss, testAccuracy3, prediction = testOperationk(model, device, testDataloader, lossFunction, 3)\n",
    "testLoss, testAccuracy4, prediction = testOperationk(model, device, testDataloader, lossFunction, 4)\n",
    "testLoss, testAccuracy5, prediction = testOperationk(model, device, testDataloader, lossFunction, 5)"
   ]
  },
  {
   "cell_type": "code",
   "execution_count": 16,
   "metadata": {},
   "outputs": [
    {
     "name": "stdout",
     "output_type": "stream",
     "text": [
      "0.10362897360766375\n"
     ]
    }
   ],
   "source": [
    "print(testLoss)"
   ]
  },
  {
   "cell_type": "code",
   "execution_count": 17,
   "metadata": {},
   "outputs": [
    {
     "name": "stdout",
     "output_type": "stream",
     "text": [
      "Top-1 accuracy:  18.14814814814815\n",
      "Top-2 accuracy:  29.25925925925926\n",
      "Top-3 accuracy:  38.148148148148145\n",
      "Top-4 accuracy:  46.111111111111114\n",
      "Top-5 accuracy:  58.148148148148145\n"
     ]
    }
   ],
   "source": [
    "print(\"Top-1 accuracy: \", testAccuracy1)\n",
    "print(\"Top-2 accuracy: \", testAccuracy2)\n",
    "print(\"Top-3 accuracy: \", testAccuracy3)\n",
    "print(\"Top-4 accuracy: \", testAccuracy4)\n",
    "print(\"Top-5 accuracy: \", testAccuracy5)"
   ]
  },
  {
   "cell_type": "code",
   "execution_count": 18,
   "metadata": {},
   "outputs": [],
   "source": [
    "%autoreload"
   ]
  }
 ],
 "metadata": {
  "kernelspec": {
   "display_name": "emgSpeech",
   "language": "python",
   "name": "python3"
  },
  "language_info": {
   "codemirror_mode": {
    "name": "ipython",
    "version": 3
   },
   "file_extension": ".py",
   "mimetype": "text/x-python",
   "name": "python",
   "nbconvert_exporter": "python",
   "pygments_lexer": "ipython3",
   "version": "3.10.14"
  }
 },
 "nbformat": 4,
 "nbformat_minor": 2
}
