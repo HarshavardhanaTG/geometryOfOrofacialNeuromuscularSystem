{
 "cells": [
  {
   "cell_type": "code",
   "execution_count": 1,
   "metadata": {},
   "outputs": [],
   "source": [
    "%load_ext autoreload"
   ]
  },
  {
   "cell_type": "code",
   "execution_count": null,
   "metadata": {},
   "outputs": [],
   "source": [
    "\"\"\"\n",
    "Rainbow passage = [\"When the sunlight strikes raindrops in the air\", \"they act as a prism and form a rainbow\", \"The rainbow is a division of white\", \"light into many beautiful colors\", \n",
    "           \"These take the shape of a long round arch\", \"with its path high above\", \"and its two ends apparently beyond the horizon\", \"There is according to legend\", \"a boiling pot of gold at one end\",\n",
    "           \"People look but no one ever finds it\", \"When a man looks for something beyond his reach\", \" his friends say he is looking for the\", \"pot of gold at the end of the rainbow\",\n",
    "           \"Throughout the centuries people have\", \"explained the rainbow in various ways\", \"Some have accepted it as\", \"a miracle without physical explanation\", \"To the Hebrews it was a token that there\",\n",
    "           \"would be no more universal floods\", \"The Greeks used to imagine that it was\", \"a sign from the gods to foretell war or heavy rain\", \"The Norsemen considered the rainbow as a bridge\", \n",
    "           \"over which the gods passed from earth to their\", \"home in the sky Others have tried to explain\", \"the phenomenon physically Aristotle thought that the\", \"rainbow was caused by reflection of the suns\",\n",
    "           \"rays by the rain Since then physicists have\", \"found that it is not reflection but refraction\", \"by the raindrops which causes the rainbows\", \"Many complicated ideas about the\", \"rainbow have been formed\", \n",
    "           \"The difference in the rainbow depends considerably\", \"upon the size of the drops and the width of the\", \"colored band increases as the size of the drops increases\", \n",
    "           \"The actual primary rainbow observed is\", \"said to be the effect of super imposition\", \"of a number of bows If the red of the second bow falls\", \n",
    "           \"upon the green of the first the result is\", \"to give a bow with an abnormally wide yellow band\", \"since red and green light when mixed form yellow\", \"This is a very common type of bow\", \n",
    "           \"one showing mainly red and yellow\",  \"with little or no green or blue\"]\n",
    "\n",
    "Each word was read character-by-character. Cue to read the characters were given 1.5 seconds apart. There are pauses between words (no pauses between characters). \n",
    "DATA is an array of (number characters, 22 - number channels, 7500 - number time steps).\n",
    "\n",
    "Due to a glitch in the software a couple of characters are missing from some subjects. Labels are provided separately for each subject. \n",
    "\"\"\""
   ]
  },
  {
   "cell_type": "code",
   "execution_count": 2,
   "metadata": {},
   "outputs": [],
   "source": [
    "import numpy as np\n",
    "\n",
    "import torch\n",
    "import torch.nn as nn\n",
    "from torch.utils.data import Dataset, DataLoader\n",
    "import torch.optim as optim\n",
    "\n",
    "from spdLearning import spdNN\n",
    "from spdLearning import optimizers \n",
    "from spdLearning import trainTest\n",
    "from spdLearning import spdNet"
   ]
  },
  {
   "cell_type": "code",
   "execution_count": 3,
   "metadata": {},
   "outputs": [],
   "source": [
    "class BaseDataset(Dataset):\n",
    "    def __init__(self, data, labels):\n",
    "        self.data = data\n",
    "        self.labels = labels\n",
    "\n",
    "    def __getitem__(self, index):\n",
    "        return self.data[index].astype('float32'), self.labels[index]\n",
    "\n",
    "    def __len__(self):\n",
    "        return len(self.data)"
   ]
  },
  {
   "cell_type": "code",
   "execution_count": 4,
   "metadata": {},
   "outputs": [],
   "source": [
    "dev = \"cpu\" \n",
    "device = torch.device(dev)"
   ]
  },
  {
   "cell_type": "code",
   "execution_count": 5,
   "metadata": {},
   "outputs": [],
   "source": [
    "subjectNumber = 4\n",
    "subject = \"Subject\" + str(subjectNumber)"
   ]
  },
  {
   "cell_type": "code",
   "execution_count": 6,
   "metadata": {},
   "outputs": [],
   "source": [
    "DATA = np.load(\"Experiment2/\" + subject + \"/rainbowPassage.npy\")\n",
    "   \n",
    "mean = np.mean(DATA, axis = -1)\n",
    "std = np.std(DATA, axis = -1)\n",
    "DATA = (DATA - mean[..., np.newaxis])/(std[..., np.newaxis] + 1e-5)\n",
    "Labels = np.load(\"Experiment2/\" + subject + \"/rainbowPassageLabels.npy\")"
   ]
  },
  {
   "cell_type": "code",
   "execution_count": 7,
   "metadata": {},
   "outputs": [],
   "source": [
    "numberChannels = 22\n",
    "windowLength = 7500\n",
    "numberAlphabets = 26"
   ]
  },
  {
   "cell_type": "code",
   "execution_count": 8,
   "metadata": {},
   "outputs": [],
   "source": [
    "covarianceMatrices = np.zeros((len(Labels), numberChannels, numberChannels))\n",
    "\n",
    "for j in range(len(Labels)):\n",
    "    covarianceMatrices[j] = 1/windowLength * ((DATA[j] @ DATA[j].T))"
   ]
  },
  {
   "cell_type": "code",
   "execution_count": 9,
   "metadata": {},
   "outputs": [],
   "source": [
    "testFeatures = covarianceMatrices\n",
    "testLabels = Labels"
   ]
  },
  {
   "cell_type": "code",
   "execution_count": 10,
   "metadata": {},
   "outputs": [],
   "source": [
    "testDataset = BaseDataset(testFeatures, testLabels)\n",
    "testDataloader = DataLoader(testDataset, batch_size = 32, shuffle = False)"
   ]
  },
  {
   "cell_type": "code",
   "execution_count": 11,
   "metadata": {},
   "outputs": [
    {
     "name": "stdout",
     "output_type": "stream",
     "text": [
      "7926\n"
     ]
    }
   ],
   "source": [
    "model = spdNet.learnSPDMatrices(numberAlphabets).to(device)\n",
    "numParams = sum(p.numel() for p in model.parameters() if p.requires_grad)\n",
    "print(numParams)\n",
    "lossFunction = nn.CrossEntropyLoss()\n",
    "spdOptimizer = optimizers.MixOptimizer(model.parameters(), lr = 0.05)"
   ]
  },
  {
   "cell_type": "code",
   "execution_count": 12,
   "metadata": {},
   "outputs": [],
   "source": [
    "checkpoint = torch.load('Experiment2/' + subject + '/spdNet.pt')"
   ]
  },
  {
   "cell_type": "code",
   "execution_count": 13,
   "metadata": {},
   "outputs": [
    {
     "data": {
      "text/plain": [
       "<All keys matched successfully>"
      ]
     },
     "execution_count": 13,
     "metadata": {},
     "output_type": "execute_result"
    }
   ],
   "source": [
    "model.load_state_dict(checkpoint)"
   ]
  },
  {
   "cell_type": "code",
   "execution_count": 14,
   "metadata": {},
   "outputs": [],
   "source": [
    "def testOperationk(model, device, dataloader, Loss, k):\n",
    "    with torch.no_grad():\n",
    "        model.eval()\n",
    "        testLoss, accuracy, correct, total = 0, 0, 0, 0\n",
    "        PREDICT = []\n",
    "\n",
    "        for data, target in dataloader:\n",
    "            target = target.long()\n",
    "            data, target = data.to(device), target.to(device)\n",
    "            output = model(data)\n",
    "            loss = Loss(output, target)\n",
    "            \n",
    "            testLoss += loss.data.item()\n",
    "            _, topkPreds = torch.topk(output.data, k, dim = 1)\n",
    "            total += target.size(0)\n",
    "            correct += sum([target[i].item() in topkPreds[i].cpu().numpy() for i in range(target.size(0))])\n",
    "            PREDICT.append(topkPreds.cpu().numpy())\n",
    "    accuracy = 100. * correct/total\n",
    "    return testLoss/total, accuracy, PREDICT"
   ]
  },
  {
   "cell_type": "code",
   "execution_count": 15,
   "metadata": {},
   "outputs": [],
   "source": [
    "testLoss, testAccuracy1, prediction = testOperationk(model, device, testDataloader, lossFunction, 1)\n",
    "testLoss, testAccuracy2, prediction = testOperationk(model, device, testDataloader, lossFunction, 2)\n",
    "testLoss, testAccuracy3, prediction = testOperationk(model, device, testDataloader, lossFunction, 3)\n",
    "testLoss, testAccuracy4, prediction = testOperationk(model, device, testDataloader, lossFunction, 4)\n",
    "testLoss, testAccuracy5, prediction = testOperationk(model, device, testDataloader, lossFunction, 5)"
   ]
  },
  {
   "cell_type": "code",
   "execution_count": 16,
   "metadata": {},
   "outputs": [
    {
     "name": "stdout",
     "output_type": "stream",
     "text": [
      "0.10309173213742209\n"
     ]
    }
   ],
   "source": [
    "print(testLoss)"
   ]
  },
  {
   "cell_type": "code",
   "execution_count": 17,
   "metadata": {},
   "outputs": [
    {
     "name": "stdout",
     "output_type": "stream",
     "text": [
      "Top-1 accuracy:  20.74281709880869\n",
      "Top-2 accuracy:  35.529081990189205\n",
      "Top-3 accuracy:  45.900490539593555\n",
      "Top-4 accuracy:  52.83812193412754\n",
      "Top-5 accuracy:  58.51436580238262\n"
     ]
    }
   ],
   "source": [
    "print(\"Top-1 accuracy: \", testAccuracy1)\n",
    "print(\"Top-2 accuracy: \", testAccuracy2)\n",
    "print(\"Top-3 accuracy: \", testAccuracy3)\n",
    "print(\"Top-4 accuracy: \", testAccuracy4)\n",
    "print(\"Top-5 accuracy: \", testAccuracy5)"
   ]
  },
  {
   "cell_type": "code",
   "execution_count": 18,
   "metadata": {},
   "outputs": [],
   "source": [
    "%autoreload"
   ]
  }
 ],
 "metadata": {
  "kernelspec": {
   "display_name": "emgSpeech",
   "language": "python",
   "name": "python3"
  },
  "language_info": {
   "codemirror_mode": {
    "name": "ipython",
    "version": 3
   },
   "file_extension": ".py",
   "mimetype": "text/x-python",
   "name": "python",
   "nbconvert_exporter": "python",
   "pygments_lexer": "ipython3",
   "version": "3.10.14"
  }
 },
 "nbformat": 4,
 "nbformat_minor": 2
}
