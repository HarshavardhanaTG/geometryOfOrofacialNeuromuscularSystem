{
 "cells": [
  {
   "cell_type": "code",
   "execution_count": 1,
   "metadata": {},
   "outputs": [],
   "source": [
    "%load_ext autoreload"
   ]
  },
  {
   "cell_type": "code",
   "execution_count": null,
   "metadata": {},
   "outputs": [],
   "source": [
    "\"\"\"\n",
    "Subjects articulate 38 distinct phonemes that span the entire English language phonetic space in `silent' and `audible' manner. \n",
    "\n",
    "38 phonemes are (labels are given in brackets beside the phoneme)\n",
    "\n",
    "Bilabial consonants: Baa (0), Paa (1), Maa (2)\n",
    "Labiodental consonants: Faa (3), Vaa (4)\n",
    "Dental consonants: Thaa (5), Dhaa (6)\n",
    "Alvelor consonants: Taa (7), Daa (8), Naa (9), Saa (10), Zaa (11)\n",
    "Post vaelor consonants: Chaa (12), Shaa (13), Jhaa (14), Zhaa (15)\n",
    "Velar consonants: Kaa (!6), Gaa (17), NGaa (18)\n",
    "Approximant consonants: Yaa (19), Raa (20), Laa (21), Waa (22)\n",
    "Vowels:\n",
    "OY as in bOY (23), OW as in nOW (24),\n",
    "AO as in OUght (25), AA as in fAther (26),\n",
    "AE as in At (27), EH as in mEt (28),\n",
    "EY as in mAte (29), IY as in mEET (30),\n",
    "IH as in It (31), AH as in HUt (32),\n",
    "UW as in fOOD (33), ER as in hER (34),\n",
    "UH as in hOOD (35)\n",
    "\n",
    "DATA is given in a numpy array of dimensions (380, 22, 7500) - (38 phonemes each repeated 10 times, 22 channels, 7500 time samples).\n",
    "Raw data was filtered using 3rd order Butterworth bandpass filter between 80 and 1000 Hertz.\n",
    "\"\"\""
   ]
  },
  {
   "cell_type": "code",
   "execution_count": 2,
   "metadata": {},
   "outputs": [],
   "source": [
    "import numpy as np\n",
    "\n",
    "import torch\n",
    "import torch.nn as nn\n",
    "from torch.utils.data import Dataset, DataLoader\n",
    "import torch.optim as optim"
   ]
  },
  {
   "cell_type": "code",
   "execution_count": 3,
   "metadata": {},
   "outputs": [],
   "source": [
    "from manifoldRnn import spdNN\n",
    "from manifoldRnn import optimizers \n",
    "from manifoldRnn import trainTest\n",
    "from manifoldRnn import spdRnn"
   ]
  },
  {
   "cell_type": "code",
   "execution_count": 4,
   "metadata": {},
   "outputs": [],
   "source": [
    "class BaseDataset(Dataset):\n",
    "    def __init__(self, data, labels):\n",
    "        self.data = data\n",
    "        self.labels = labels\n",
    "\n",
    "    def __getitem__(self, index):\n",
    "        return self.data[index].astype('float32'), self.labels[index]\n",
    "\n",
    "    def __len__(self):\n",
    "        return len(self.data)"
   ]
  },
  {
   "cell_type": "code",
   "execution_count": 5,
   "metadata": {},
   "outputs": [],
   "source": [
    "dev = \"cuda:0\" \n",
    "device = torch.device(dev)"
   ]
  },
  {
   "cell_type": "code",
   "execution_count": 6,
   "metadata": {},
   "outputs": [],
   "source": [
    "numberPhonemes = 38\n",
    "trialsPerPhoneme = 10\n",
    "numberTrials = numberPhonemes * trialsPerPhoneme\n",
    "numberChannels = 22\n",
    "windowLength = 7500"
   ]
  },
  {
   "cell_type": "code",
   "execution_count": 7,
   "metadata": {},
   "outputs": [],
   "source": [
    "subjectNumber = 1\n",
    "articulationManner = \"Voiced\"\n",
    "subject = \"Subject\" + str(subjectNumber)"
   ]
  },
  {
   "cell_type": "code",
   "execution_count": 8,
   "metadata": {},
   "outputs": [],
   "source": [
    "DATA = np.load(\"Experiment1/Phoneme/\" + articulationManner + subject + \".npy\")\n",
    "   \n",
    "mean = np.mean(DATA, axis = -1)\n",
    "std = np.std(DATA, axis = -1)\n",
    "DATA = (DATA - mean[..., np.newaxis])/(std[..., np.newaxis] + 1e-5)\n",
    "\n",
    "phonemeMatrices = DATA\n",
    "labelsByPhonemes = np.array([[i] * trialsPerPhoneme for i in range(numberPhonemes)]).reshape(numberTrials)\n",
    "\n",
    "Indices =  {}\n",
    "for i in range(numberPhonemes):\n",
    "    Indices[i] = []\n",
    "for i in range(len(labelsByPhonemes)):\n",
    "    Indices[labelsByPhonemes[i]].append(i)"
   ]
  },
  {
   "cell_type": "code",
   "execution_count": 9,
   "metadata": {},
   "outputs": [],
   "source": [
    "slicedMatrices = np.zeros((numberPhonemes * trialsPerPhoneme, 46, numberChannels, numberChannels))\n",
    "for j in range(numberPhonemes * trialsPerPhoneme):\n",
    "    for i in range(46):\n",
    "        where = i * 150 + 300\n",
    "        start = where - 300\n",
    "        End = where + 450\n",
    "        slicedMatrices[j, i] = 1/750 * phonemeMatrices[j, :, start:End] @ phonemeMatrices[j, :, start:End].T\n",
    "\n",
    "covariancesLabels = np.zeros((numberPhonemes, trialsPerPhoneme, 46, numberChannels, numberChannels))\n",
    "for i in range(numberPhonemes):\n",
    "    for j in range(trialsPerPhoneme):\n",
    "        covariancesLabels[i, j] = slicedMatrices[Indices[i][j]]\n",
    "\n",
    "trainFeatures = np.zeros((numberPhonemes * 6, 46, numberChannels, numberChannels))\n",
    "trainLabels = np.zeros((numberPhonemes * 6))\n",
    "count = 0\n",
    "for i in range(numberPhonemes):\n",
    "    trainFeatures[count:count + 3] = covariancesLabels[i, :3]\n",
    "    trainFeatures[count + 3:count + 6] = covariancesLabels[i, 5:8]\n",
    "    trainLabels[count:count + 6] = [i] * 6\n",
    "    count += 6\n",
    "\n",
    "testFeatures = np.zeros((numberPhonemes * 4, 46, numberChannels, numberChannels))\n",
    "testLabels = np.zeros((numberPhonemes * 4))\n",
    "count = 0\n",
    "for i in range(numberPhonemes):\n",
    "    testFeatures[count:count + 2] = covariancesLabels[i, 3:5]\n",
    "    testFeatures[count + 2:count + 4] = covariancesLabels[i, 8:10]\n",
    "    testLabels[count:count + 4] = [i] * 4\n",
    "    count += 4\n",
    "\n",
    "trainDataset = BaseDataset(trainFeatures, trainLabels)\n",
    "testDataset = BaseDataset(testFeatures, testLabels)\n",
    "trainDataloader = DataLoader(trainDataset, batch_size = 32, shuffle = True)\n",
    "testDataloader = DataLoader(testDataset, batch_size = 32, shuffle = False)"
   ]
  },
  {
   "cell_type": "code",
   "execution_count": 10,
   "metadata": {},
   "outputs": [
    {
     "name": "stdout",
     "output_type": "stream",
     "text": [
      "146796\n"
     ]
    }
   ],
   "source": [
    "numberEpochs = 150\n",
    "\n",
    "model = spdRnn.spdRnnNet(numberPhonemes).to(device)\n",
    "numParams = sum(p.numel() for p in model.parameters() if p.requires_grad)\n",
    "print(numParams)\n",
    "lossFunction = nn.CrossEntropyLoss()\n",
    "cnnOptimizer = optimizers.StiefelOptim(model.CNN.parameters(), lr = 0.05)\n",
    "rnnOptimizer = optim.Adam(model.RNN.parameters(), lr = 0.001, weight_decay = 1e-3)"
   ]
  },
  {
   "cell_type": "code",
   "execution_count": 11,
   "metadata": {},
   "outputs": [
    {
     "name": "stdout",
     "output_type": "stream",
     "text": [
      "Epoch: 1/150, Training loss: 0.1297, Training accuracy: 1.75%, Test loss: 0.1189, Test accuracy: 2.63%\n",
      "Epoch: 2/150, Training loss: 0.1276, Training accuracy: 2.63%, Test loss: 0.1184, Test accuracy: 2.63%\n",
      "Epoch: 3/150, Training loss: 0.1264, Training accuracy: 4.82%, Test loss: 0.1176, Test accuracy: 5.92%\n",
      "Epoch: 4/150, Training loss: 0.1250, Training accuracy: 4.82%, Test loss: 0.1162, Test accuracy: 5.26%\n",
      "Epoch: 5/150, Training loss: 0.1223, Training accuracy: 7.02%, Test loss: 0.1093, Test accuracy: 5.26%\n",
      "Epoch: 6/150, Training loss: 0.1151, Training accuracy: 5.26%, Test loss: 0.1034, Test accuracy: 12.50%\n",
      "Epoch: 7/150, Training loss: 0.1109, Training accuracy: 11.40%, Test loss: 0.1046, Test accuracy: 7.24%\n",
      "Epoch: 8/150, Training loss: 0.1110, Training accuracy: 5.70%, Test loss: 0.1013, Test accuracy: 15.13%\n",
      "Epoch: 9/150, Training loss: 0.1104, Training accuracy: 12.28%, Test loss: 0.1001, Test accuracy: 15.79%\n",
      "Epoch: 10/150, Training loss: 0.1030, Training accuracy: 14.04%, Test loss: 0.0919, Test accuracy: 9.21%\n",
      "Epoch: 11/150, Training loss: 0.0979, Training accuracy: 11.40%, Test loss: 0.0911, Test accuracy: 8.55%\n",
      "Epoch: 12/150, Training loss: 0.0978, Training accuracy: 13.16%, Test loss: 0.0895, Test accuracy: 21.05%\n",
      "Epoch: 13/150, Training loss: 0.0970, Training accuracy: 17.11%, Test loss: 0.0898, Test accuracy: 14.47%\n",
      "Epoch: 14/150, Training loss: 0.0930, Training accuracy: 20.18%, Test loss: 0.0855, Test accuracy: 20.39%\n",
      "Epoch: 15/150, Training loss: 0.0915, Training accuracy: 19.74%, Test loss: 0.0878, Test accuracy: 17.76%\n",
      "Epoch: 16/150, Training loss: 0.0908, Training accuracy: 19.74%, Test loss: 0.0816, Test accuracy: 28.95%\n",
      "Epoch: 17/150, Training loss: 0.0894, Training accuracy: 19.30%, Test loss: 0.0907, Test accuracy: 17.11%\n",
      "Epoch: 18/150, Training loss: 0.0900, Training accuracy: 19.30%, Test loss: 0.0804, Test accuracy: 28.29%\n",
      "Epoch: 19/150, Training loss: 0.0884, Training accuracy: 21.49%, Test loss: 0.0821, Test accuracy: 20.39%\n",
      "Epoch: 20/150, Training loss: 0.0848, Training accuracy: 22.37%, Test loss: 0.0783, Test accuracy: 26.32%\n",
      "Epoch: 21/150, Training loss: 0.0824, Training accuracy: 30.26%, Test loss: 0.0798, Test accuracy: 21.71%\n",
      "Epoch: 22/150, Training loss: 0.0767, Training accuracy: 31.58%, Test loss: 0.0738, Test accuracy: 29.61%\n",
      "Epoch: 23/150, Training loss: 0.0757, Training accuracy: 29.82%, Test loss: 0.0751, Test accuracy: 28.29%\n",
      "Epoch: 24/150, Training loss: 0.0783, Training accuracy: 31.14%, Test loss: 0.0754, Test accuracy: 23.03%\n",
      "Epoch: 25/150, Training loss: 0.0831, Training accuracy: 24.12%, Test loss: 0.0740, Test accuracy: 29.61%\n",
      "Epoch: 26/150, Training loss: 0.0750, Training accuracy: 34.21%, Test loss: 0.0741, Test accuracy: 30.26%\n",
      "Epoch: 27/150, Training loss: 0.0729, Training accuracy: 44.30%, Test loss: 0.0646, Test accuracy: 38.16%\n",
      "Epoch: 28/150, Training loss: 0.0659, Training accuracy: 35.09%, Test loss: 0.0651, Test accuracy: 32.24%\n",
      "Epoch: 29/150, Training loss: 0.0656, Training accuracy: 34.21%, Test loss: 0.0652, Test accuracy: 27.63%\n",
      "Epoch: 30/150, Training loss: 0.0627, Training accuracy: 30.26%, Test loss: 0.0643, Test accuracy: 34.87%\n",
      "Epoch: 31/150, Training loss: 0.0617, Training accuracy: 43.42%, Test loss: 0.0610, Test accuracy: 35.53%\n",
      "Epoch: 32/150, Training loss: 0.0632, Training accuracy: 41.23%, Test loss: 0.0642, Test accuracy: 33.55%\n",
      "Epoch: 33/150, Training loss: 0.0678, Training accuracy: 42.11%, Test loss: 0.0618, Test accuracy: 36.18%\n",
      "Epoch: 34/150, Training loss: 0.0645, Training accuracy: 43.86%, Test loss: 0.0602, Test accuracy: 40.13%\n",
      "Epoch: 35/150, Training loss: 0.0604, Training accuracy: 45.18%, Test loss: 0.0598, Test accuracy: 36.84%\n",
      "Epoch: 36/150, Training loss: 0.0570, Training accuracy: 47.81%, Test loss: 0.0666, Test accuracy: 27.63%\n",
      "Epoch: 37/150, Training loss: 0.0617, Training accuracy: 35.96%, Test loss: 0.0586, Test accuracy: 40.13%\n",
      "Epoch: 38/150, Training loss: 0.0666, Training accuracy: 40.35%, Test loss: 0.0697, Test accuracy: 32.24%\n",
      "Epoch: 39/150, Training loss: 0.0666, Training accuracy: 37.28%, Test loss: 0.0653, Test accuracy: 34.21%\n",
      "Epoch: 40/150, Training loss: 0.0558, Training accuracy: 46.49%, Test loss: 0.0541, Test accuracy: 42.76%\n",
      "Epoch: 41/150, Training loss: 0.0484, Training accuracy: 53.51%, Test loss: 0.0518, Test accuracy: 45.39%\n",
      "Epoch: 42/150, Training loss: 0.0497, Training accuracy: 53.07%, Test loss: 0.0531, Test accuracy: 40.13%\n",
      "Epoch: 43/150, Training loss: 0.0469, Training accuracy: 56.58%, Test loss: 0.0528, Test accuracy: 42.76%\n",
      "Epoch: 44/150, Training loss: 0.0469, Training accuracy: 59.65%, Test loss: 0.0541, Test accuracy: 46.71%\n",
      "Epoch: 45/150, Training loss: 0.0454, Training accuracy: 59.21%, Test loss: 0.0598, Test accuracy: 39.47%\n",
      "Epoch: 46/150, Training loss: 0.0453, Training accuracy: 56.58%, Test loss: 0.0528, Test accuracy: 41.45%\n",
      "Epoch: 47/150, Training loss: 0.0432, Training accuracy: 65.79%, Test loss: 0.0531, Test accuracy: 44.74%\n",
      "Epoch: 48/150, Training loss: 0.0373, Training accuracy: 63.16%, Test loss: 0.0473, Test accuracy: 47.37%\n",
      "Epoch: 49/150, Training loss: 0.0406, Training accuracy: 61.40%, Test loss: 0.0513, Test accuracy: 46.05%\n",
      "Epoch: 50/150, Training loss: 0.0364, Training accuracy: 63.60%, Test loss: 0.0447, Test accuracy: 55.26%\n",
      "Epoch: 51/150, Training loss: 0.0333, Training accuracy: 66.67%, Test loss: 0.0420, Test accuracy: 50.66%\n",
      "Epoch: 52/150, Training loss: 0.0310, Training accuracy: 69.74%, Test loss: 0.0446, Test accuracy: 55.26%\n",
      "Epoch: 53/150, Training loss: 0.0284, Training accuracy: 74.56%, Test loss: 0.0531, Test accuracy: 50.66%\n",
      "Epoch: 54/150, Training loss: 0.0313, Training accuracy: 71.05%, Test loss: 0.0533, Test accuracy: 48.03%\n",
      "Epoch: 55/150, Training loss: 0.0401, Training accuracy: 63.60%, Test loss: 0.0508, Test accuracy: 47.37%\n",
      "Epoch: 56/150, Training loss: 0.0471, Training accuracy: 55.70%, Test loss: 0.0677, Test accuracy: 40.13%\n",
      "Epoch: 57/150, Training loss: 0.0426, Training accuracy: 57.89%, Test loss: 0.0467, Test accuracy: 51.32%\n",
      "Epoch: 58/150, Training loss: 0.0410, Training accuracy: 60.09%, Test loss: 0.0464, Test accuracy: 53.29%\n",
      "Epoch: 59/150, Training loss: 0.0341, Training accuracy: 67.98%, Test loss: 0.0412, Test accuracy: 55.92%\n",
      "Epoch: 60/150, Training loss: 0.0291, Training accuracy: 74.12%, Test loss: 0.0514, Test accuracy: 46.71%\n",
      "Epoch: 61/150, Training loss: 0.0312, Training accuracy: 69.30%, Test loss: 0.0466, Test accuracy: 46.05%\n",
      "Epoch: 62/150, Training loss: 0.0263, Training accuracy: 74.12%, Test loss: 0.0422, Test accuracy: 55.26%\n",
      "Epoch: 63/150, Training loss: 0.0268, Training accuracy: 73.68%, Test loss: 0.0434, Test accuracy: 55.26%\n",
      "Epoch: 64/150, Training loss: 0.0275, Training accuracy: 77.63%, Test loss: 0.0408, Test accuracy: 57.89%\n",
      "Epoch: 65/150, Training loss: 0.0226, Training accuracy: 77.63%, Test loss: 0.0430, Test accuracy: 52.63%\n",
      "Epoch: 66/150, Training loss: 0.0268, Training accuracy: 73.25%, Test loss: 0.0388, Test accuracy: 56.58%\n",
      "Epoch: 67/150, Training loss: 0.0241, Training accuracy: 75.44%, Test loss: 0.0438, Test accuracy: 57.89%\n",
      "Epoch: 68/150, Training loss: 0.0280, Training accuracy: 75.88%, Test loss: 0.0618, Test accuracy: 44.74%\n",
      "Epoch: 69/150, Training loss: 0.0425, Training accuracy: 65.79%, Test loss: 0.0798, Test accuracy: 33.55%\n",
      "Epoch: 70/150, Training loss: 0.0595, Training accuracy: 48.25%, Test loss: 0.0603, Test accuracy: 35.53%\n",
      "Epoch: 71/150, Training loss: 0.0489, Training accuracy: 56.58%, Test loss: 0.0541, Test accuracy: 38.82%\n",
      "Epoch: 72/150, Training loss: 0.0530, Training accuracy: 54.39%, Test loss: 0.0634, Test accuracy: 38.16%\n",
      "Epoch: 73/150, Training loss: 0.0550, Training accuracy: 49.56%, Test loss: 0.0561, Test accuracy: 48.03%\n",
      "Epoch: 74/150, Training loss: 0.0409, Training accuracy: 64.04%, Test loss: 0.0485, Test accuracy: 46.71%\n",
      "Epoch: 75/150, Training loss: 0.0374, Training accuracy: 71.93%, Test loss: 0.0482, Test accuracy: 48.68%\n",
      "Epoch: 76/150, Training loss: 0.0344, Training accuracy: 65.79%, Test loss: 0.0579, Test accuracy: 38.16%\n",
      "Epoch: 77/150, Training loss: 0.0388, Training accuracy: 57.89%, Test loss: 0.0503, Test accuracy: 42.76%\n",
      "Epoch: 78/150, Training loss: 0.0357, Training accuracy: 66.67%, Test loss: 0.0554, Test accuracy: 47.37%\n",
      "Epoch: 79/150, Training loss: 0.0344, Training accuracy: 69.74%, Test loss: 0.0445, Test accuracy: 49.34%\n",
      "Epoch: 80/150, Training loss: 0.0314, Training accuracy: 74.12%, Test loss: 0.0445, Test accuracy: 53.29%\n",
      "Epoch: 81/150, Training loss: 0.0294, Training accuracy: 75.88%, Test loss: 0.0476, Test accuracy: 54.61%\n",
      "Epoch: 82/150, Training loss: 0.0294, Training accuracy: 76.32%, Test loss: 0.0531, Test accuracy: 55.92%\n",
      "Epoch: 83/150, Training loss: 0.0215, Training accuracy: 80.70%, Test loss: 0.0516, Test accuracy: 56.58%\n",
      "Epoch: 84/150, Training loss: 0.0258, Training accuracy: 73.25%, Test loss: 0.0515, Test accuracy: 56.58%\n",
      "Epoch: 85/150, Training loss: 0.0231, Training accuracy: 80.26%, Test loss: 0.0536, Test accuracy: 52.63%\n",
      "Epoch: 86/150, Training loss: 0.0192, Training accuracy: 82.46%, Test loss: 0.0512, Test accuracy: 57.89%\n",
      "Epoch: 87/150, Training loss: 0.0187, Training accuracy: 83.33%, Test loss: 0.0555, Test accuracy: 53.29%\n",
      "Epoch: 88/150, Training loss: 0.0198, Training accuracy: 82.46%, Test loss: 0.0570, Test accuracy: 49.34%\n",
      "Epoch: 89/150, Training loss: 0.0192, Training accuracy: 85.96%, Test loss: 0.0627, Test accuracy: 55.92%\n",
      "Epoch: 90/150, Training loss: 0.0210, Training accuracy: 80.70%, Test loss: 0.0556, Test accuracy: 53.95%\n",
      "Epoch: 91/150, Training loss: 0.0324, Training accuracy: 71.05%, Test loss: 0.0569, Test accuracy: 46.71%\n",
      "Epoch: 92/150, Training loss: 0.0263, Training accuracy: 71.93%, Test loss: 0.0579, Test accuracy: 51.97%\n",
      "Epoch: 93/150, Training loss: 0.0233, Training accuracy: 77.63%, Test loss: 0.0539, Test accuracy: 50.00%\n",
      "Epoch: 94/150, Training loss: 0.0245, Training accuracy: 78.07%, Test loss: 0.0526, Test accuracy: 54.61%\n",
      "Epoch: 95/150, Training loss: 0.0193, Training accuracy: 82.89%, Test loss: 0.0521, Test accuracy: 57.89%\n",
      "Epoch: 96/150, Training loss: 0.0160, Training accuracy: 87.72%, Test loss: 0.0491, Test accuracy: 57.24%\n",
      "Epoch: 97/150, Training loss: 0.0137, Training accuracy: 89.04%, Test loss: 0.0530, Test accuracy: 57.24%\n",
      "Epoch: 98/150, Training loss: 0.0156, Training accuracy: 91.67%, Test loss: 0.0547, Test accuracy: 53.95%\n",
      "Epoch: 99/150, Training loss: 0.0136, Training accuracy: 89.91%, Test loss: 0.0550, Test accuracy: 56.58%\n",
      "Epoch: 100/150, Training loss: 0.0127, Training accuracy: 91.23%, Test loss: 0.0545, Test accuracy: 55.92%\n",
      "Epoch: 101/150, Training loss: 0.0125, Training accuracy: 88.60%, Test loss: 0.0619, Test accuracy: 54.61%\n",
      "Epoch: 102/150, Training loss: 0.0121, Training accuracy: 93.86%, Test loss: 0.0618, Test accuracy: 53.29%\n",
      "Epoch: 103/150, Training loss: 0.0188, Training accuracy: 86.84%, Test loss: 0.0605, Test accuracy: 54.61%\n",
      "Epoch: 104/150, Training loss: 0.0172, Training accuracy: 82.46%, Test loss: 0.0752, Test accuracy: 51.97%\n",
      "Epoch: 105/150, Training loss: 0.0272, Training accuracy: 78.07%, Test loss: 0.0544, Test accuracy: 57.89%\n",
      "Epoch: 106/150, Training loss: 0.0216, Training accuracy: 82.89%, Test loss: 0.0535, Test accuracy: 51.97%\n",
      "Epoch: 107/150, Training loss: 0.0184, Training accuracy: 86.84%, Test loss: 0.0477, Test accuracy: 54.61%\n",
      "Epoch: 108/150, Training loss: 0.0187, Training accuracy: 84.21%, Test loss: 0.0451, Test accuracy: 59.87%\n",
      "Epoch: 109/150, Training loss: 0.0170, Training accuracy: 85.09%, Test loss: 0.0502, Test accuracy: 59.21%\n",
      "Epoch: 110/150, Training loss: 0.0127, Training accuracy: 87.28%, Test loss: 0.0501, Test accuracy: 57.89%\n",
      "Epoch: 111/150, Training loss: 0.0116, Training accuracy: 90.79%, Test loss: 0.0423, Test accuracy: 55.26%\n",
      "Epoch: 112/150, Training loss: 0.0105, Training accuracy: 94.30%, Test loss: 0.0447, Test accuracy: 60.53%\n",
      "Epoch: 113/150, Training loss: 0.0094, Training accuracy: 92.98%, Test loss: 0.0493, Test accuracy: 55.92%\n",
      "Epoch: 114/150, Training loss: 0.0092, Training accuracy: 92.98%, Test loss: 0.0511, Test accuracy: 58.55%\n",
      "Epoch: 115/150, Training loss: 0.0089, Training accuracy: 95.18%, Test loss: 0.0497, Test accuracy: 57.24%\n",
      "Epoch: 116/150, Training loss: 0.0078, Training accuracy: 94.30%, Test loss: 0.0507, Test accuracy: 59.21%\n",
      "Epoch: 117/150, Training loss: 0.0081, Training accuracy: 94.30%, Test loss: 0.0483, Test accuracy: 59.21%\n",
      "Epoch: 118/150, Training loss: 0.0093, Training accuracy: 93.86%, Test loss: 0.0487, Test accuracy: 57.89%\n",
      "Epoch: 119/150, Training loss: 0.0100, Training accuracy: 92.11%, Test loss: 0.0561, Test accuracy: 57.24%\n",
      "Epoch: 120/150, Training loss: 0.0098, Training accuracy: 92.11%, Test loss: 0.0461, Test accuracy: 57.24%\n",
      "Epoch: 121/150, Training loss: 0.0088, Training accuracy: 90.35%, Test loss: 0.0525, Test accuracy: 62.50%\n",
      "Epoch: 122/150, Training loss: 0.0083, Training accuracy: 91.23%, Test loss: 0.0536, Test accuracy: 57.24%\n",
      "Epoch: 123/150, Training loss: 0.0084, Training accuracy: 94.74%, Test loss: 0.0510, Test accuracy: 65.13%\n",
      "Epoch: 124/150, Training loss: 0.0074, Training accuracy: 96.49%, Test loss: 0.0475, Test accuracy: 62.50%\n",
      "Epoch: 125/150, Training loss: 0.0118, Training accuracy: 89.91%, Test loss: 0.0499, Test accuracy: 61.84%\n",
      "Epoch: 126/150, Training loss: 0.0082, Training accuracy: 92.98%, Test loss: 0.0459, Test accuracy: 59.87%\n",
      "Epoch: 127/150, Training loss: 0.0084, Training accuracy: 93.42%, Test loss: 0.0462, Test accuracy: 61.18%\n",
      "Epoch: 128/150, Training loss: 0.0070, Training accuracy: 95.18%, Test loss: 0.0511, Test accuracy: 60.53%\n",
      "Epoch: 129/150, Training loss: 0.0069, Training accuracy: 92.98%, Test loss: 0.0515, Test accuracy: 59.87%\n",
      "Epoch: 130/150, Training loss: 0.0064, Training accuracy: 96.05%, Test loss: 0.0465, Test accuracy: 61.18%\n",
      "Epoch: 131/150, Training loss: 0.0065, Training accuracy: 96.05%, Test loss: 0.0523, Test accuracy: 61.18%\n",
      "Epoch: 132/150, Training loss: 0.0051, Training accuracy: 97.37%, Test loss: 0.0484, Test accuracy: 55.26%\n",
      "Epoch: 133/150, Training loss: 0.0050, Training accuracy: 97.81%, Test loss: 0.0563, Test accuracy: 56.58%\n",
      "Epoch: 134/150, Training loss: 0.0065, Training accuracy: 96.49%, Test loss: 0.0749, Test accuracy: 59.21%\n",
      "Epoch: 135/150, Training loss: 0.0165, Training accuracy: 86.40%, Test loss: 0.0495, Test accuracy: 57.89%\n",
      "Epoch: 136/150, Training loss: 0.0132, Training accuracy: 89.47%, Test loss: 0.0585, Test accuracy: 59.21%\n",
      "Epoch: 137/150, Training loss: 0.0142, Training accuracy: 87.72%, Test loss: 0.0457, Test accuracy: 56.58%\n",
      "Epoch: 138/150, Training loss: 0.0195, Training accuracy: 84.21%, Test loss: 0.0613, Test accuracy: 53.29%\n",
      "Epoch: 139/150, Training loss: 0.0176, Training accuracy: 85.53%, Test loss: 0.0507, Test accuracy: 60.53%\n",
      "Epoch: 140/150, Training loss: 0.0161, Training accuracy: 82.89%, Test loss: 0.0435, Test accuracy: 59.21%\n",
      "Epoch: 141/150, Training loss: 0.0131, Training accuracy: 86.40%, Test loss: 0.0474, Test accuracy: 55.26%\n",
      "Epoch: 142/150, Training loss: 0.0106, Training accuracy: 89.47%, Test loss: 0.0577, Test accuracy: 65.13%\n",
      "Epoch: 143/150, Training loss: 0.0100, Training accuracy: 92.98%, Test loss: 0.0422, Test accuracy: 59.21%\n",
      "Epoch: 144/150, Training loss: 0.0071, Training accuracy: 98.25%, Test loss: 0.0440, Test accuracy: 55.26%\n",
      "Epoch: 145/150, Training loss: 0.0058, Training accuracy: 96.49%, Test loss: 0.0432, Test accuracy: 61.84%\n",
      "Epoch: 146/150, Training loss: 0.0053, Training accuracy: 97.81%, Test loss: 0.0524, Test accuracy: 56.58%\n",
      "Epoch: 147/150, Training loss: 0.0167, Training accuracy: 93.86%, Test loss: 0.0487, Test accuracy: 58.55%\n",
      "Epoch: 148/150, Training loss: 0.0122, Training accuracy: 87.72%, Test loss: 0.0511, Test accuracy: 59.21%\n",
      "Epoch: 149/150, Training loss: 0.0087, Training accuracy: 91.67%, Test loss: 0.0481, Test accuracy: 59.87%\n",
      "Epoch: 150/150, Training loss: 0.0073, Training accuracy: 94.30%, Test loss: 0.0452, Test accuracy: 59.21%\n",
      "65.13157894736842\n"
     ]
    }
   ],
   "source": [
    "maxValue = 0\n",
    "for epoch in range(numberEpochs):\n",
    "    trainLoss, trainAccuracy = trainTest.trainOperation(model, device, trainDataloader, cnnOptimizer, rnnOptimizer, lossFunction)\n",
    "    testLoss, testAccuracy = trainTest.testOperation(model, device, testDataloader, lossFunction)\n",
    "    if maxValue < testAccuracy:\n",
    "        maxValue = testAccuracy\n",
    "    print(f'Epoch: {epoch + 1}/{numberEpochs}, Training loss: {trainLoss:.4f}, Training accuracy: {trainAccuracy:.2f}%, Test loss: {testLoss:.4f}, Test accuracy: {testAccuracy:.2f}%')\n",
    "print(maxValue)"
   ]
  },
  {
   "cell_type": "code",
   "execution_count": 12,
   "metadata": {},
   "outputs": [
    {
     "name": "stdout",
     "output_type": "stream",
     "text": [
      "65.13157894736842\n"
     ]
    }
   ],
   "source": [
    "print(maxValue)"
   ]
  },
  {
   "cell_type": "code",
   "execution_count": 13,
   "metadata": {},
   "outputs": [],
   "source": [
    "%autoreload"
   ]
  }
 ],
 "metadata": {
  "kernelspec": {
   "display_name": "emgSpeech",
   "language": "python",
   "name": "python3"
  },
  "language_info": {
   "codemirror_mode": {
    "name": "ipython",
    "version": 3
   },
   "file_extension": ".py",
   "mimetype": "text/x-python",
   "name": "python",
   "nbconvert_exporter": "python",
   "pygments_lexer": "ipython3",
   "version": "3.10.14"
  }
 },
 "nbformat": 4,
 "nbformat_minor": 2
}
